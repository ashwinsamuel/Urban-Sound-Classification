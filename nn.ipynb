{
 "cells": [
  {
   "cell_type": "code",
   "execution_count": 3,
   "metadata": {},
   "outputs": [],
   "source": [
    "import os\n",
    "import pandas as pd\n",
    "from matplotlib import pyplot as plt\n",
    "import librosa\n",
    "from librosa import display\n",
    "\n",
    "import glob\n",
    "import random\n",
    "\n",
    "import numpy as np\n",
    "\n",
    "from sklearn.preprocessing import LabelEncoder\n",
    "from keras.utils import np_utils\n",
    "import pickle"
   ]
  },
  {
   "cell_type": "code",
   "execution_count": null,
   "metadata": {},
   "outputs": [],
   "source": [
    "#READING WAV FILENAMES FROM CSV\n",
    "\n",
    "data_dir='C:/Users/ashwin.s/Documents/Urban Sound Classification/Data' \n",
    "train = pd.read_csv(os.path.join(data_dir, 'train_1.csv'))\n",
    "\n",
    "train.Class.value_counts(normalize=True)"
   ]
  },
  {
   "cell_type": "code",
   "execution_count": null,
   "metadata": {},
   "outputs": [],
   "source": [
    "#FEATURE EXTRACTION MFCC,CHROMA,MEL,TONNETZ,CONTRAST FOR TRAINING FILES\n",
    "\n",
    "import numpy as np\n",
    "\n",
    "def parser(row):\n",
    "    filename=os.path.join(data_dir,'Train',str(row['ID'])+'.wav')\n",
    "    \n",
    "    try:\n",
    "        X,sr=librosa.load(filename) #try res_type=kaiser_fast\n",
    "        stdt_amp=np.std(X)\n",
    "        mfccs = np.mean(librosa.feature.mfcc(y=X,sr=sr,n_mfcc=20).T,axis=0) #(mfccs,chroma,mel,contrast,tonnetz\n",
    "        chroma = np.mean(librosa.feature.chroma_stft(y=X, sr=sr).T,axis=0)\n",
    "        mel = np.mean(librosa.feature.melspectrogram(X, sr=sr).T,axis=0)\n",
    "        contrast = np.mean(librosa.feature.spectral_contrast(y=X, sr=sr).T,axis=0)\n",
    "        tonnetz = np.mean(librosa.feature.tonnetz(y=X, sr=sr).T,axis=0)\n",
    "        \n",
    "    except Exception as e:\n",
    "        print(\"Error encountered while extracting file: \",e,filename)\n",
    "        return None , None\n",
    "    \n",
    "    feature = np.hstack(([stdt_amp],mfccs,chroma,mel,contrast,tonnetz))\n",
    "    #feature =np.hstack([mfccs,chroma])\n",
    "    #feature = mfccs\n",
    "    label=row.Class\n",
    "    \n",
    "    return pd.Series([feature,label])"
   ]
  },
  {
   "cell_type": "code",
   "execution_count": null,
   "metadata": {
    "scrolled": true
   },
   "outputs": [],
   "source": [
    "#CALLING PARSER AND STORING THE FEATURES EXTRACTED IN PICKLE FILE FOR REPEATED USE\n",
    "\n",
    "temp=train.apply(parser,axis=1)\n",
    "temp.columns = ['feature','label']\n",
    "\n",
    "temp.to_csv('C:/Users/ashwin.s/Documents/Urban Sound Classification/Data/features174.csv')\n",
    "\n",
    "X=np.array(temp.feature.tolist())\n",
    "Y=np.array(temp.label.tolist())\n",
    "\n",
    "print(X.shape)\n",
    "      \n",
    "\n",
    "\n",
    "with open('X_sd.pickle', 'wb') as handle:\n",
    "     pickle.dump(X, handle, protocol=pickle.HIGHEST_PROTOCOL)\n",
    "        \n",
    "with open('Y.pickle', 'wb') as handle:\n",
    "     pickle.dump(Y, handle, protocol=pickle.HIGHEST_PROTOCOL)\n"
   ]
  },
  {
   "cell_type": "code",
   "execution_count": 4,
   "metadata": {},
   "outputs": [
    {
     "name": "stdout",
     "output_type": "stream",
     "text": [
      "engine_idling\n",
      "[0. 0. 0. 0. 0. 1. 0. 0. 0. 0.] (5435, 10) (5435, 193)\n"
     ]
    }
   ],
   "source": [
    "\n",
    "with open('X.pickle','rb') as handle:\n",
    "     X=pickle.load(handle)\n",
    "with open('Y.pickle','rb') as handle:\n",
    "     Y=pickle.load(handle)\n",
    "\n",
    "#NORMALIZE FEATURES\n",
    "\n",
    "mn=np.mean(X,axis=0)\n",
    "X-=mn\n",
    "sd=np.std(X,axis=0)\n",
    "X/=sd\n",
    "print(Y[10])\n",
    "\n",
    "#ONE HOT ENCODE THE LABELS\n",
    "\n",
    "lb=LabelEncoder();\n",
    "\n",
    "Y=np_utils.to_categorical(lb.fit_transform(Y))\n",
    "print(Y[10],Y.shape,X.shape)\n"
   ]
  },
  {
   "cell_type": "code",
   "execution_count": 49,
   "metadata": {},
   "outputs": [
    {
     "name": "stdout",
     "output_type": "stream",
     "text": [
      "Train on 4891 samples, validate on 544 samples\n",
      "Epoch 1/60\n",
      " - 2s - loss: 1.4226 - acc: 0.5285 - val_loss: 0.7922 - val_acc: 0.7353\n",
      "Epoch 2/60\n",
      " - 1s - loss: 0.7287 - acc: 0.7778 - val_loss: 0.5614 - val_acc: 0.8235\n",
      "Epoch 3/60\n",
      " - 1s - loss: 0.4992 - acc: 0.8401 - val_loss: 0.5382 - val_acc: 0.8309\n",
      "Epoch 4/60\n",
      " - 1s - loss: 0.3654 - acc: 0.8790 - val_loss: 0.4055 - val_acc: 0.8732\n",
      "Epoch 5/60\n",
      " - 1s - loss: 0.2773 - acc: 0.9147 - val_loss: 0.3954 - val_acc: 0.8732\n",
      "Epoch 6/60\n",
      " - 1s - loss: 0.2379 - acc: 0.9219 - val_loss: 0.3578 - val_acc: 0.9173\n",
      "Epoch 7/60\n",
      " - 1s - loss: 0.2109 - acc: 0.9336 - val_loss: 0.3300 - val_acc: 0.9081\n",
      "Epoch 8/60\n",
      " - 1s - loss: 0.1568 - acc: 0.9538 - val_loss: 0.3750 - val_acc: 0.9099\n",
      "Epoch 9/60\n",
      " - 1s - loss: 0.2240 - acc: 0.9368 - val_loss: 0.2933 - val_acc: 0.9081\n",
      "Epoch 10/60\n",
      " - 1s - loss: 0.2047 - acc: 0.9505 - val_loss: 0.2796 - val_acc: 0.9320\n",
      "Epoch 11/60\n",
      " - 1s - loss: 0.1683 - acc: 0.9571 - val_loss: 0.3557 - val_acc: 0.9044\n",
      "Epoch 12/60\n",
      " - 1s - loss: 0.1472 - acc: 0.9589 - val_loss: 0.3130 - val_acc: 0.9173\n",
      "Epoch 13/60\n",
      " - 1s - loss: 0.1251 - acc: 0.9704 - val_loss: 0.3113 - val_acc: 0.9210\n",
      "Epoch 14/60\n",
      " - 1s - loss: 0.0885 - acc: 0.9779 - val_loss: 0.3189 - val_acc: 0.9210\n",
      "Epoch 15/60\n",
      " - 1s - loss: 0.0869 - acc: 0.9771 - val_loss: 0.3109 - val_acc: 0.9265\n",
      "Epoch 16/60\n",
      " - 1s - loss: 0.0711 - acc: 0.9785 - val_loss: 0.3915 - val_acc: 0.9136\n",
      "Epoch 17/60\n",
      " - 1s - loss: 0.1154 - acc: 0.9726 - val_loss: 0.2683 - val_acc: 0.9320\n",
      "Epoch 18/60\n",
      " - 1s - loss: 0.0687 - acc: 0.9810 - val_loss: 0.6418 - val_acc: 0.8952\n",
      "Epoch 19/60\n",
      " - 1s - loss: 0.1131 - acc: 0.9712 - val_loss: 0.2863 - val_acc: 0.9357\n",
      "Epoch 20/60\n",
      " - 1s - loss: 0.0620 - acc: 0.9816 - val_loss: 0.3427 - val_acc: 0.9228\n",
      "Epoch 21/60\n",
      " - 1s - loss: 0.0977 - acc: 0.9812 - val_loss: 0.5493 - val_acc: 0.8989\n",
      "Epoch 22/60\n",
      " - 1s - loss: 0.1840 - acc: 0.9634 - val_loss: 0.4295 - val_acc: 0.9191\n",
      "Epoch 23/60\n",
      " - 1s - loss: 0.1136 - acc: 0.9755 - val_loss: 0.2895 - val_acc: 0.9210\n",
      "Epoch 24/60\n",
      " - 1s - loss: 0.0818 - acc: 0.9845 - val_loss: 0.3314 - val_acc: 0.9265\n",
      "Epoch 25/60\n",
      " - 1s - loss: 0.0876 - acc: 0.9832 - val_loss: 0.3690 - val_acc: 0.9246\n",
      "Epoch 26/60\n",
      " - 1s - loss: 0.0812 - acc: 0.9802 - val_loss: 0.3005 - val_acc: 0.9338\n",
      "Epoch 27/60\n",
      " - 1s - loss: 0.0615 - acc: 0.9828 - val_loss: 0.4464 - val_acc: 0.9099\n",
      "Epoch 28/60\n",
      " - 1s - loss: 0.0369 - acc: 0.9920 - val_loss: 0.3854 - val_acc: 0.9320\n",
      "Epoch 29/60\n",
      " - 1s - loss: 0.0503 - acc: 0.9875 - val_loss: 0.3795 - val_acc: 0.9301\n",
      "Epoch 30/60\n",
      " - 1s - loss: 0.0432 - acc: 0.9871 - val_loss: 0.3206 - val_acc: 0.9375\n",
      "Epoch 31/60\n",
      " - 1s - loss: 0.0543 - acc: 0.9869 - val_loss: 0.3487 - val_acc: 0.9393\n",
      "Epoch 32/60\n",
      " - 1s - loss: 0.0678 - acc: 0.9838 - val_loss: 0.3580 - val_acc: 0.9320\n",
      "Epoch 33/60\n",
      " - 1s - loss: 0.0479 - acc: 0.9865 - val_loss: 0.3783 - val_acc: 0.9283\n",
      "Epoch 34/60\n",
      " - 1s - loss: 0.0502 - acc: 0.9902 - val_loss: 0.4049 - val_acc: 0.9265\n",
      "Epoch 35/60\n",
      " - 1s - loss: 0.0746 - acc: 0.9863 - val_loss: 0.3520 - val_acc: 0.9338\n",
      "Epoch 36/60\n",
      " - 1s - loss: 0.0461 - acc: 0.9896 - val_loss: 0.4273 - val_acc: 0.9265\n",
      "Epoch 37/60\n",
      " - 1s - loss: 0.1000 - acc: 0.9793 - val_loss: 0.4891 - val_acc: 0.9154\n",
      "Epoch 38/60\n",
      " - 1s - loss: 0.0679 - acc: 0.9828 - val_loss: 0.4073 - val_acc: 0.9357\n",
      "Epoch 39/60\n",
      " - 1s - loss: 0.0439 - acc: 0.9883 - val_loss: 0.3708 - val_acc: 0.9375\n",
      "Epoch 40/60\n",
      " - 1s - loss: 0.0490 - acc: 0.9906 - val_loss: 0.4002 - val_acc: 0.9283\n",
      "Epoch 41/60\n",
      " - 1s - loss: 0.0372 - acc: 0.9904 - val_loss: 0.4456 - val_acc: 0.9210\n",
      "Epoch 42/60\n",
      " - 1s - loss: 0.0324 - acc: 0.9924 - val_loss: 0.4165 - val_acc: 0.9338\n",
      "Epoch 43/60\n",
      " - 1s - loss: 0.1280 - acc: 0.9798 - val_loss: 0.5902 - val_acc: 0.9265\n",
      "Epoch 44/60\n",
      " - 1s - loss: 0.0719 - acc: 0.9863 - val_loss: 0.5811 - val_acc: 0.9191\n",
      "Epoch 45/60\n",
      " - 1s - loss: 0.0638 - acc: 0.9861 - val_loss: 0.4455 - val_acc: 0.9338\n",
      "Epoch 46/60\n",
      " - 1s - loss: 0.0997 - acc: 0.9851 - val_loss: 0.4866 - val_acc: 0.9191\n",
      "Epoch 47/60\n",
      " - 1s - loss: 0.1711 - acc: 0.9763 - val_loss: 0.5557 - val_acc: 0.9173\n",
      "Epoch 48/60\n",
      " - 1s - loss: 0.1560 - acc: 0.9800 - val_loss: 0.4747 - val_acc: 0.9375\n",
      "Epoch 49/60\n",
      " - 1s - loss: 0.1236 - acc: 0.9849 - val_loss: 0.4082 - val_acc: 0.9357\n",
      "Epoch 50/60\n",
      " - 1s - loss: 0.2162 - acc: 0.9720 - val_loss: 0.5128 - val_acc: 0.9191\n",
      "Epoch 51/60\n",
      " - 1s - loss: 0.1356 - acc: 0.9791 - val_loss: 0.4672 - val_acc: 0.9320\n",
      "Epoch 52/60\n",
      " - 1s - loss: 0.1114 - acc: 0.9851 - val_loss: 0.4961 - val_acc: 0.9210\n",
      "Epoch 53/60\n",
      " - 1s - loss: 0.1402 - acc: 0.9800 - val_loss: 0.5434 - val_acc: 0.9246\n",
      "Epoch 54/60\n",
      " - 1s - loss: 0.0595 - acc: 0.9888 - val_loss: 0.5328 - val_acc: 0.9301\n",
      "Epoch 55/60\n",
      " - 1s - loss: 0.0613 - acc: 0.9896 - val_loss: 0.4423 - val_acc: 0.9301\n",
      "Epoch 56/60\n",
      " - 1s - loss: 0.0319 - acc: 0.9930 - val_loss: 0.4471 - val_acc: 0.9393\n",
      "Epoch 57/60\n",
      " - 1s - loss: 0.0565 - acc: 0.9894 - val_loss: 0.3294 - val_acc: 0.9485\n",
      "Epoch 58/60\n",
      " - 1s - loss: 0.0761 - acc: 0.9883 - val_loss: 0.4795 - val_acc: 0.9393\n",
      "Epoch 59/60\n",
      " - 1s - loss: 0.0365 - acc: 0.9937 - val_loss: 0.4941 - val_acc: 0.9283\n",
      "Epoch 60/60\n",
      " - 1s - loss: 0.0627 - acc: 0.9873 - val_loss: 0.3187 - val_acc: 0.9393\n"
     ]
    }
   ],
   "source": [
    "#KERAS MODEL\n",
    "\n",
    "from keras.models import Sequential\n",
    "from keras.layers import Dense,Dropout,Activation,Flatten\n",
    "from keras.callbacks import EarlyStopping\n",
    "from keras.optimizers import Adam\n",
    "from sklearn import metrics\n",
    "\n",
    "num_labels=Y.shape[1]\n",
    "filter_size=2\n",
    "\n",
    "earlystop = EarlyStopping(monitor='val_loss', patience=3, verbose=1, mode='auto')\n",
    "\n",
    "\n",
    "model=Sequential()\n",
    "\n",
    "model.add(Dense(193, input_shape=(193,)))\n",
    "model.add(Activation('relu'))\n",
    "#model.add(Dropout(0.5))\n",
    "\n",
    "model.add(Dense(400)) #approx. 2 * input_dim\n",
    "model.add(Activation('relu'))\n",
    "model.add(Dropout(0.5)) #remove and check\n",
    "\n",
    "model.add(Dense(400)) #approx. half of previous layer\n",
    "model.add(Activation('relu'))\n",
    "model.add(Dropout(0.5))\n",
    "\n",
    "model.add(Dense(num_labels))\n",
    "model.add(Activation('softmax'))\n",
    "\n",
    "model.compile(loss='categorical_crossentropy',metrics=['accuracy'],optimizer='Adam') #optimiser 'adam/adamax'\n",
    "\n",
    "\n",
    "history=model.fit(X,Y,batch_size=24,epochs=60,validation_split=0.1,verbose=2) #epochs"
   ]
  },
  {
   "cell_type": "code",
   "execution_count": 43,
   "metadata": {},
   "outputs": [
    {
     "data": {
      "image/png": "[encoded data removed]",
      "text/plain": [
       "<Figure size 432x288 with 1 Axes>"
      ]
     },
     "metadata": {},
     "output_type": "display_data"
    }
   ],
   "source": [
    "from matplotlib import pyplot as plt\n",
    "\n",
    "plt.plot(history.history['loss'])\n",
    "plt.plot(history.history['val_loss'])\n",
    "plt.title('model loss')\n",
    "plt.ylabel('loss')\n",
    "plt.xlabel('epoch')\n",
    "plt.legend(['train', 'validation'], loc='upper left')\n",
    "plt.show()\n"
   ]
  },
  {
   "cell_type": "code",
   "execution_count": 40,
   "metadata": {
    "scrolled": true
   },
   "outputs": [
    {
     "name": "stdout",
     "output_type": "stream",
     "text": [
      "5\n"
     ]
    },
    {
     "ename": "KeyboardInterrupt",
     "evalue": "",
     "output_type": "error",
     "traceback": [
      "\u001b[1;31m---------------------------------------------------------------------------\u001b[0m",
      "\u001b[1;31mKeyboardInterrupt\u001b[0m                         Traceback (most recent call last)",
      "\u001b[1;32m<ipython-input-40-e5543ac59d17>\u001b[0m in \u001b[0;36m<module>\u001b[1;34m()\u001b[0m\n\u001b[0;32m     29\u001b[0m     \u001b[1;32mreturn\u001b[0m \u001b[0mpd\u001b[0m\u001b[1;33m.\u001b[0m\u001b[0mSeries\u001b[0m\u001b[1;33m(\u001b[0m\u001b[1;33m[\u001b[0m\u001b[0mi\u001b[0m\u001b[1;33m,\u001b[0m\u001b[0mfeature\u001b[0m\u001b[1;33m]\u001b[0m\u001b[1;33m)\u001b[0m\u001b[1;33m\u001b[0m\u001b[0m\n\u001b[0;32m     30\u001b[0m \u001b[1;33m\u001b[0m\u001b[0m\n\u001b[1;32m---> 31\u001b[1;33m \u001b[0mtemp2\u001b[0m\u001b[1;33m=\u001b[0m\u001b[0mtest\u001b[0m\u001b[1;33m.\u001b[0m\u001b[0mapply\u001b[0m\u001b[1;33m(\u001b[0m\u001b[0mparser2\u001b[0m\u001b[1;33m,\u001b[0m\u001b[0maxis\u001b[0m\u001b[1;33m=\u001b[0m\u001b[1;36m1\u001b[0m\u001b[1;33m)\u001b[0m\u001b[1;33m\u001b[0m\u001b[0m\n\u001b[0m\u001b[0;32m     32\u001b[0m \u001b[0mtemp2\u001b[0m\u001b[1;33m.\u001b[0m\u001b[0mcolumns\u001b[0m \u001b[1;33m=\u001b[0m \u001b[1;33m[\u001b[0m\u001b[1;34m'ID'\u001b[0m\u001b[1;33m,\u001b[0m\u001b[1;34m'feature'\u001b[0m\u001b[1;33m]\u001b[0m\u001b[1;33m\u001b[0m\u001b[0m\n\u001b[0;32m     33\u001b[0m \u001b[1;33m\u001b[0m\u001b[0m\n",
      "\u001b[1;32m~\\AppData\\Local\\Continuum\\anaconda3\\lib\\site-packages\\pandas\\core\\frame.py\u001b[0m in \u001b[0;36mapply\u001b[1;34m(self, func, axis, broadcast, raw, reduce, result_type, args, **kwds)\u001b[0m\n\u001b[0;32m   6002\u001b[0m                          \u001b[0margs\u001b[0m\u001b[1;33m=\u001b[0m\u001b[0margs\u001b[0m\u001b[1;33m,\u001b[0m\u001b[1;33m\u001b[0m\u001b[0m\n\u001b[0;32m   6003\u001b[0m                          kwds=kwds)\n\u001b[1;32m-> 6004\u001b[1;33m         \u001b[1;32mreturn\u001b[0m \u001b[0mop\u001b[0m\u001b[1;33m.\u001b[0m\u001b[0mget_result\u001b[0m\u001b[1;33m(\u001b[0m\u001b[1;33m)\u001b[0m\u001b[1;33m\u001b[0m\u001b[0m\n\u001b[0m\u001b[0;32m   6005\u001b[0m \u001b[1;33m\u001b[0m\u001b[0m\n\u001b[0;32m   6006\u001b[0m     \u001b[1;32mdef\u001b[0m \u001b[0mapplymap\u001b[0m\u001b[1;33m(\u001b[0m\u001b[0mself\u001b[0m\u001b[1;33m,\u001b[0m \u001b[0mfunc\u001b[0m\u001b[1;33m)\u001b[0m\u001b[1;33m:\u001b[0m\u001b[1;33m\u001b[0m\u001b[0m\n",
      "\u001b[1;32m~\\AppData\\Local\\Continuum\\anaconda3\\lib\\site-packages\\pandas\\core\\apply.py\u001b[0m in \u001b[0;36mget_result\u001b[1;34m(self)\u001b[0m\n\u001b[0;32m    140\u001b[0m             \u001b[1;32mreturn\u001b[0m \u001b[0mself\u001b[0m\u001b[1;33m.\u001b[0m\u001b[0mapply_raw\u001b[0m\u001b[1;33m(\u001b[0m\u001b[1;33m)\u001b[0m\u001b[1;33m\u001b[0m\u001b[0m\n\u001b[0;32m    141\u001b[0m \u001b[1;33m\u001b[0m\u001b[0m\n\u001b[1;32m--> 142\u001b[1;33m         \u001b[1;32mreturn\u001b[0m \u001b[0mself\u001b[0m\u001b[1;33m.\u001b[0m\u001b[0mapply_standard\u001b[0m\u001b[1;33m(\u001b[0m\u001b[1;33m)\u001b[0m\u001b[1;33m\u001b[0m\u001b[0m\n\u001b[0m\u001b[0;32m    143\u001b[0m \u001b[1;33m\u001b[0m\u001b[0m\n\u001b[0;32m    144\u001b[0m     \u001b[1;32mdef\u001b[0m \u001b[0mapply_empty_result\u001b[0m\u001b[1;33m(\u001b[0m\u001b[0mself\u001b[0m\u001b[1;33m)\u001b[0m\u001b[1;33m:\u001b[0m\u001b[1;33m\u001b[0m\u001b[0m\n",
      "\u001b[1;32m~\\AppData\\Local\\Continuum\\anaconda3\\lib\\site-packages\\pandas\\core\\apply.py\u001b[0m in \u001b[0;36mapply_standard\u001b[1;34m(self)\u001b[0m\n\u001b[0;32m    240\u001b[0m                                           \u001b[0maxis\u001b[0m\u001b[1;33m=\u001b[0m\u001b[0mself\u001b[0m\u001b[1;33m.\u001b[0m\u001b[0maxis\u001b[0m\u001b[1;33m,\u001b[0m\u001b[1;33m\u001b[0m\u001b[0m\n\u001b[0;32m    241\u001b[0m                                           \u001b[0mdummy\u001b[0m\u001b[1;33m=\u001b[0m\u001b[0mdummy\u001b[0m\u001b[1;33m,\u001b[0m\u001b[1;33m\u001b[0m\u001b[0m\n\u001b[1;32m--> 242\u001b[1;33m                                           labels=labels)\n\u001b[0m\u001b[0;32m    243\u001b[0m                 \u001b[1;32mreturn\u001b[0m \u001b[0mself\u001b[0m\u001b[1;33m.\u001b[0m\u001b[0mobj\u001b[0m\u001b[1;33m.\u001b[0m\u001b[0m_constructor_sliced\u001b[0m\u001b[1;33m(\u001b[0m\u001b[0mresult\u001b[0m\u001b[1;33m,\u001b[0m \u001b[0mindex\u001b[0m\u001b[1;33m=\u001b[0m\u001b[0mlabels\u001b[0m\u001b[1;33m)\u001b[0m\u001b[1;33m\u001b[0m\u001b[0m\n\u001b[0;32m    244\u001b[0m             \u001b[1;32mexcept\u001b[0m \u001b[0mException\u001b[0m\u001b[1;33m:\u001b[0m\u001b[1;33m\u001b[0m\u001b[0m\n",
      "\u001b[1;32mpandas\\_libs\\reduction.pyx\u001b[0m in \u001b[0;36mpandas._libs.reduction.reduce\u001b[1;34m()\u001b[0m\n",
      "\u001b[1;32mpandas\\_libs\\reduction.pyx\u001b[0m in \u001b[0;36mpandas._libs.reduction.Reducer.get_result\u001b[1;34m()\u001b[0m\n",
      "\u001b[1;32m<ipython-input-40-e5543ac59d17>\u001b[0m in \u001b[0;36mparser2\u001b[1;34m(row)\u001b[0m\n\u001b[0;32m     10\u001b[0m \u001b[1;33m\u001b[0m\u001b[0m\n\u001b[0;32m     11\u001b[0m     \u001b[1;32mtry\u001b[0m\u001b[1;33m:\u001b[0m\u001b[1;33m\u001b[0m\u001b[0m\n\u001b[1;32m---> 12\u001b[1;33m         \u001b[0mX\u001b[0m\u001b[1;33m,\u001b[0m\u001b[0msr\u001b[0m\u001b[1;33m=\u001b[0m\u001b[0mlibrosa\u001b[0m\u001b[1;33m.\u001b[0m\u001b[0mload\u001b[0m\u001b[1;33m(\u001b[0m\u001b[0mfilename\u001b[0m\u001b[1;33m)\u001b[0m \u001b[1;31m#try res_type=kaiser_fast\u001b[0m\u001b[1;33m\u001b[0m\u001b[0m\n\u001b[0m\u001b[0;32m     13\u001b[0m         \u001b[0mstdt_amp\u001b[0m\u001b[1;33m=\u001b[0m\u001b[0mnp\u001b[0m\u001b[1;33m.\u001b[0m\u001b[0mstd\u001b[0m\u001b[1;33m(\u001b[0m\u001b[0mX\u001b[0m\u001b[1;33m)\u001b[0m\u001b[1;33m\u001b[0m\u001b[0m\n\u001b[0;32m     14\u001b[0m         \u001b[0mmfccs\u001b[0m \u001b[1;33m=\u001b[0m \u001b[0mnp\u001b[0m\u001b[1;33m.\u001b[0m\u001b[0mmean\u001b[0m\u001b[1;33m(\u001b[0m\u001b[0mlibrosa\u001b[0m\u001b[1;33m.\u001b[0m\u001b[0mfeature\u001b[0m\u001b[1;33m.\u001b[0m\u001b[0mmfcc\u001b[0m\u001b[1;33m(\u001b[0m\u001b[0my\u001b[0m\u001b[1;33m=\u001b[0m\u001b[0mX\u001b[0m\u001b[1;33m,\u001b[0m\u001b[0msr\u001b[0m\u001b[1;33m=\u001b[0m\u001b[0msr\u001b[0m\u001b[1;33m,\u001b[0m\u001b[0mn_mfcc\u001b[0m\u001b[1;33m=\u001b[0m\u001b[1;36m20\u001b[0m\u001b[1;33m)\u001b[0m\u001b[1;33m.\u001b[0m\u001b[0mT\u001b[0m\u001b[1;33m,\u001b[0m\u001b[0maxis\u001b[0m\u001b[1;33m=\u001b[0m\u001b[1;36m0\u001b[0m\u001b[1;33m)\u001b[0m \u001b[1;31m#(mfccs,chroma,mel,contrast,tonnetz\u001b[0m\u001b[1;33m\u001b[0m\u001b[0m\n",
      "\u001b[1;32m~\\AppData\\Local\\Continuum\\anaconda3\\lib\\site-packages\\librosa\\core\\audio.py\u001b[0m in \u001b[0;36mload\u001b[1;34m(path, sr, mono, offset, duration, dtype, res_type)\u001b[0m\n\u001b[0;32m    110\u001b[0m \u001b[1;33m\u001b[0m\u001b[0m\n\u001b[0;32m    111\u001b[0m     \u001b[0my\u001b[0m \u001b[1;33m=\u001b[0m \u001b[1;33m[\u001b[0m\u001b[1;33m]\u001b[0m\u001b[1;33m\u001b[0m\u001b[0m\n\u001b[1;32m--> 112\u001b[1;33m     \u001b[1;32mwith\u001b[0m \u001b[0maudioread\u001b[0m\u001b[1;33m.\u001b[0m\u001b[0maudio_open\u001b[0m\u001b[1;33m(\u001b[0m\u001b[0mos\u001b[0m\u001b[1;33m.\u001b[0m\u001b[0mpath\u001b[0m\u001b[1;33m.\u001b[0m\u001b[0mrealpath\u001b[0m\u001b[1;33m(\u001b[0m\u001b[0mpath\u001b[0m\u001b[1;33m)\u001b[0m\u001b[1;33m)\u001b[0m \u001b[1;32mas\u001b[0m \u001b[0minput_file\u001b[0m\u001b[1;33m:\u001b[0m\u001b[1;33m\u001b[0m\u001b[0m\n\u001b[0m\u001b[0;32m    113\u001b[0m         \u001b[0msr_native\u001b[0m \u001b[1;33m=\u001b[0m \u001b[0minput_file\u001b[0m\u001b[1;33m.\u001b[0m\u001b[0msamplerate\u001b[0m\u001b[1;33m\u001b[0m\u001b[0m\n\u001b[0;32m    114\u001b[0m         \u001b[0mn_channels\u001b[0m \u001b[1;33m=\u001b[0m \u001b[0minput_file\u001b[0m\u001b[1;33m.\u001b[0m\u001b[0mchannels\u001b[0m\u001b[1;33m\u001b[0m\u001b[0m\n",
      "\u001b[1;32m~\\AppData\\Local\\Continuum\\anaconda3\\lib\\site-packages\\audioread\\__init__.py\u001b[0m in \u001b[0;36maudio_open\u001b[1;34m(path)\u001b[0m\n\u001b[0;32m    109\u001b[0m     \u001b[1;32mfrom\u001b[0m \u001b[1;33m.\u001b[0m \u001b[1;32mimport\u001b[0m \u001b[0mffdec\u001b[0m\u001b[1;33m\u001b[0m\u001b[0m\n\u001b[0;32m    110\u001b[0m     \u001b[1;32mtry\u001b[0m\u001b[1;33m:\u001b[0m\u001b[1;33m\u001b[0m\u001b[0m\n\u001b[1;32m--> 111\u001b[1;33m         \u001b[1;32mreturn\u001b[0m \u001b[0mffdec\u001b[0m\u001b[1;33m.\u001b[0m\u001b[0mFFmpegAudioFile\u001b[0m\u001b[1;33m(\u001b[0m\u001b[0mpath\u001b[0m\u001b[1;33m)\u001b[0m\u001b[1;33m\u001b[0m\u001b[0m\n\u001b[0m\u001b[0;32m    112\u001b[0m     \u001b[1;32mexcept\u001b[0m \u001b[0mDecodeError\u001b[0m\u001b[1;33m:\u001b[0m\u001b[1;33m\u001b[0m\u001b[0m\n\u001b[0;32m    113\u001b[0m         \u001b[1;32mpass\u001b[0m\u001b[1;33m\u001b[0m\u001b[0m\n",
      "\u001b[1;32m~\\AppData\\Local\\Continuum\\anaconda3\\lib\\site-packages\\audioread\\ffdec.py\u001b[0m in \u001b[0;36m__init__\u001b[1;34m(self, filename, block_size)\u001b[0m\n\u001b[0;32m    148\u001b[0m \u001b[1;33m\u001b[0m\u001b[0m\n\u001b[0;32m    149\u001b[0m         \u001b[1;31m# Read relevant information from stderr.\u001b[0m\u001b[1;33m\u001b[0m\u001b[1;33m\u001b[0m\u001b[0m\n\u001b[1;32m--> 150\u001b[1;33m         \u001b[0mself\u001b[0m\u001b[1;33m.\u001b[0m\u001b[0m_get_info\u001b[0m\u001b[1;33m(\u001b[0m\u001b[1;33m)\u001b[0m\u001b[1;33m\u001b[0m\u001b[0m\n\u001b[0m\u001b[0;32m    151\u001b[0m \u001b[1;33m\u001b[0m\u001b[0m\n\u001b[0;32m    152\u001b[0m         \u001b[1;31m# Start a separate thread to read the rest of the data from\u001b[0m\u001b[1;33m\u001b[0m\u001b[1;33m\u001b[0m\u001b[0m\n",
      "\u001b[1;32m~\\AppData\\Local\\Continuum\\anaconda3\\lib\\site-packages\\audioread\\ffdec.py\u001b[0m in \u001b[0;36m_get_info\u001b[1;34m(self)\u001b[0m\n\u001b[0;32m    192\u001b[0m         \u001b[0mout_parts\u001b[0m \u001b[1;33m=\u001b[0m \u001b[1;33m[\u001b[0m\u001b[1;33m]\u001b[0m\u001b[1;33m\u001b[0m\u001b[0m\n\u001b[0;32m    193\u001b[0m         \u001b[1;32mwhile\u001b[0m \u001b[1;32mTrue\u001b[0m\u001b[1;33m:\u001b[0m\u001b[1;33m\u001b[0m\u001b[0m\n\u001b[1;32m--> 194\u001b[1;33m             \u001b[0mline\u001b[0m \u001b[1;33m=\u001b[0m \u001b[0mself\u001b[0m\u001b[1;33m.\u001b[0m\u001b[0mproc\u001b[0m\u001b[1;33m.\u001b[0m\u001b[0mstderr\u001b[0m\u001b[1;33m.\u001b[0m\u001b[0mreadline\u001b[0m\u001b[1;33m(\u001b[0m\u001b[1;33m)\u001b[0m\u001b[1;33m\u001b[0m\u001b[0m\n\u001b[0m\u001b[0;32m    195\u001b[0m             \u001b[1;32mif\u001b[0m \u001b[1;32mnot\u001b[0m \u001b[0mline\u001b[0m\u001b[1;33m:\u001b[0m\u001b[1;33m\u001b[0m\u001b[0m\n\u001b[0;32m    196\u001b[0m                 \u001b[1;31m# EOF and data not found.\u001b[0m\u001b[1;33m\u001b[0m\u001b[1;33m\u001b[0m\u001b[0m\n",
      "\u001b[1;31mKeyboardInterrupt\u001b[0m: "
     ]
    }
   ],
   "source": [
    "#FEATURES EXTRACTED FOR TEST FILES\n",
    "\n",
    "data_dir='C:/Users/ashwin.s/Documents/Urban Sound Classification/Data' \n",
    "\n",
    "test = pd.read_csv(os.path.join(data_dir, 'test_1.csv'))\n",
    "print(test.ID[0])\n",
    "\n",
    "def parser2(row):\n",
    "    filename=os.path.join(data_dir,'Test',str(row['ID'])+'.wav')\n",
    "    \n",
    "    try:\n",
    "        X,sr=librosa.load(filename) #try res_type=kaiser_fast\n",
    "        stdt_amp=np.std(X)\n",
    "        mfccs = np.mean(librosa.feature.mfcc(y=X,sr=sr,n_mfcc=20).T,axis=0) #(mfccs,chroma,mel,contrast,tonnetz\n",
    "        chroma = np.mean(librosa.feature.chroma_stft(y=X, sr=sr).T,axis=0)\n",
    "        mel = np.mean(librosa.feature.melspectrogram(X, sr=sr).T,axis=0)\n",
    "        contrast = np.mean(librosa.feature.spectral_contrast(y=X, sr=sr).T,axis=0)\n",
    "        tonnetz = np.mean(librosa.feature.tonnetz(y=X, sr=sr).T,axis=0)\n",
    "    except Exception as e:\n",
    "        print(\"Error encountered while extracting file: \",filename,e)\n",
    "        return None , None\n",
    "    \n",
    "    feature = np.hstack(([stdt_amp],mfccs,chroma,mel,contrast,tonnetz))\n",
    "    #feature=mfccs\n",
    "    \n",
    "    \n",
    "    i=row['ID']\n",
    "    \n",
    "    return pd.Series([i,feature])\n",
    "\n",
    "temp2=test.apply(parser2,axis=1)\n",
    "temp2.columns = ['ID','feature']\n",
    "\n",
    "test_ID=np.array(temp2.ID.tolist())\n",
    "test_features=np.array(temp2.feature.tolist())\n",
    "\n",
    "with open('test_ID.pickle', 'wb') as handle:\n",
    "     pickle.dump(test_ID, handle, protocol=pickle.HIGHEST_PROTOCOL)\n",
    "        \n",
    "with open('test_sd_features.pickle', 'wb') as handle:\n",
    "     pickle.dump(test_features, handle, protocol=pickle.HIGHEST_PROTOCOL)"
   ]
  },
  {
   "cell_type": "code",
   "execution_count": 44,
   "metadata": {},
   "outputs": [
    {
     "name": "stdout",
     "output_type": "stream",
     "text": [
      "Previous min max: -67.53523597383956 36.240203060621994\n",
      "After normalization: -1.924966252741764 9.496510995603572\n",
      "(3297, 193)\n"
     ]
    }
   ],
   "source": [
    "with open('test_ID.pickle','rb') as handle:\n",
    "     test_ID=pickle.load(handle)\n",
    "with open('test_features.pickle','rb') as handle:\n",
    "     test_features=pickle.load(handle)\n",
    "\n",
    "print(\"Previous min max:\", np.min(test_features[:][0]) , np.max(test_features[:][0]) )\n",
    "\n",
    "\n",
    "\n",
    "mn=np.mean( test_features ,axis=0)\n",
    "test_features-=mn\n",
    "sd=np.std( test_features ,axis=0)\n",
    "test_features/=sd\n",
    "\n",
    "print(\"After normalization:\", np.min(test_features[:][0]) , np.max(test_features[:][0]))\n",
    "print(test_features.shape)"
   ]
  },
  {
   "cell_type": "code",
   "execution_count": 45,
   "metadata": {},
   "outputs": [
    {
     "name": "stdout",
     "output_type": "stream",
     "text": [
      "(3297, 193)\n"
     ]
    }
   ],
   "source": [
    "#PREDICTION\n",
    "\n",
    "print( test_features.shape )\n",
    "result=model.predict( test_features )\n",
    "result=result.argmax(axis=-1)\n",
    "\n",
    "d={\n",
    "    0:'air_conditioner',\n",
    "    1:'car_horn',\n",
    "    2:'children_playing',\n",
    "    3:'dog_bark',\n",
    "    4:'drilling',\n",
    "    5:'engine_idling',\n",
    "    6:'gun_shot',\n",
    "    7:'jackhammer',\n",
    "    8:'siren',\n",
    "    9:'street_music',\n",
    "}\n",
    "\n"
   ]
  },
  {
   "cell_type": "code",
   "execution_count": 46,
   "metadata": {},
   "outputs": [
    {
     "name": "stdout",
     "output_type": "stream",
     "text": [
      "(3297,) <class 'numpy.ndarray'>\n"
     ]
    }
   ],
   "source": [
    "#OBTAINING CLASS LABEL FROM PREDICTIONS\n",
    "\n",
    "resultL=[]\n",
    "print(result.shape,type(result))\n",
    "for i in range(len(result)):\n",
    "    resultL.append(d[result[i]])\n",
    "\n",
    "\n",
    "temp2 = pd.DataFrame(\n",
    "    {\n",
    "     'Class': resultL,\n",
    "     'ID': test_ID,\n",
    "    })\n",
    "\n",
    "temp2.to_csv('C:/Users/ashwin.s/Documents/Urban Sound Classification/Data/result_DNN.csv',index=False)\n"
   ]
  },
  {
   "cell_type": "code",
   "execution_count": null,
   "metadata": {},
   "outputs": [],
   "source": []
  }
 ],
 "metadata": {
  "kernelspec": {
   "display_name": "Python 3",
   "language": "python",
   "name": "python3"
  },
  "language_info": {
   "codemirror_mode": {
    "name": "ipython",
    "version": 3
   },
   "file_extension": ".py",
   "mimetype": "text/x-python",
   "name": "python",
   "nbconvert_exporter": "python",
   "pygments_lexer": "ipython3",
   "version": "3.6.5"
  }
 },
 "nbformat": 4,
 "nbformat_minor": 2
}
